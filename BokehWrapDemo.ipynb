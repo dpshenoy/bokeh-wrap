{
 "cells": [
  {
   "cell_type": "markdown",
   "metadata": {
    "heading_collapsed": true
   },
   "source": [
    "# bokeh_wrap demo\n",
    "\n",
    "Examples using **`bokeh_wrap.py`**, a convenience wrapper around two bokeh plot functions for making two kinds of plots:\n",
    "\n",
    "1. Histogram with **`bokeh_wrap.bokeh_wrap.hist()`**\n",
    "2. Time Series with **`bokeh_wrap.bokeh_wrap.timeplot()`**"
   ]
  },
  {
   "cell_type": "markdown",
   "metadata": {
    "heading_collapsed": true,
    "hidden": true
   },
   "source": [
    "## 0. Import the module (in this same directory)"
   ]
  },
  {
   "cell_type": "code",
   "execution_count": null,
   "metadata": {
    "collapsed": true,
    "hidden": true
   },
   "outputs": [],
   "source": [
    "import bokeh_wrap as bw"
   ]
  },
  {
   "cell_type": "markdown",
   "metadata": {
    "heading_collapsed": true,
    "hidden": true
   },
   "source": [
    "## 1. Histogramming"
   ]
  },
  {
   "cell_type": "markdown",
   "metadata": {
    "heading_collapsed": true,
    "hidden": true
   },
   "source": [
    "#### 1.1.  Read some data from a text file into a Pandas DataFrame\n",
    "\n",
    "Using a Pandas DataFrame as the ColumnDataSource for a bokeh plot is *not* required, though they [are particularly convenient](https://bokeh.pydata.org/en/0.12.7/docs/user_guide/data.html#columndatasource)."
   ]
  },
  {
   "cell_type": "code",
   "execution_count": null,
   "metadata": {
    "collapsed": true,
    "hidden": true
   },
   "outputs": [],
   "source": [
    "import pandas as pd\n",
    "\n",
    "data = pd.read_table(\"data.txt\")\n",
    "print(data.shape)\n",
    "data.head()"
   ]
  },
  {
   "cell_type": "markdown",
   "metadata": {
    "hidden": true
   },
   "source": [
    "Pretend these data are the runtime (in some units) of some process.  We want to explore:\n",
    "1. Are there outliers?  If yes, how far out and how many/much of an issue?\n",
    "2. Is there a single population of values or maybe multiple ones?\n",
    "3. Where's the median?  Where would a cut-off such as the 90th percentile lie?\n",
    "\n",
    "Pandas DataFrames do have methods `describe()` and `hist()`... but they are not as flexible out of the box as I would like..."
   ]
  },
  {
   "cell_type": "code",
   "execution_count": null,
   "metadata": {
    "collapsed": true,
    "hidden": true
   },
   "outputs": [],
   "source": [
    "data.describe()"
   ]
  },
  {
   "cell_type": "code",
   "execution_count": null,
   "metadata": {
    "collapsed": true,
    "hidden": true
   },
   "outputs": [],
   "source": [
    "from matplotlib import pyplot as plt\n",
    "%matplotlib inline\n",
    "data.hist()"
   ]
  },
  {
   "cell_type": "markdown",
   "metadata": {
    "heading_collapsed": true,
    "hidden": true
   },
   "source": [
    "#### 1.2.  Pass the DataFrame to function `bw.hist()`"
   ]
  },
  {
   "cell_type": "code",
   "execution_count": null,
   "metadata": {
    "collapsed": true,
    "hidden": true
   },
   "outputs": [],
   "source": [
    "bw.hist(df=data, colname='runtime')"
   ]
  },
  {
   "cell_type": "markdown",
   "metadata": {
    "collapsed": true,
    "heading_collapsed": true,
    "hidden": true
   },
   "source": [
    "## 2.  Time series plot"
   ]
  },
  {
   "cell_type": "markdown",
   "metadata": {
    "collapsed": true,
    "heading_collapsed": true,
    "hidden": true
   },
   "source": [
    "#### 2.1.  Read in some time-stamped values\n",
    "Note: the data do not need to be sorted in any particular time order, ascending or descending.  However, it is important to make sure the time column is of (or is converted to) type **`numpy.datetime64`**"
   ]
  },
  {
   "cell_type": "code",
   "execution_count": null,
   "metadata": {
    "collapsed": true,
    "hidden": true
   },
   "outputs": [],
   "source": [
    "tsdata = pd.read_csv('time_data.csv')\n",
    "tsdata.head()"
   ]
  },
  {
   "cell_type": "markdown",
   "metadata": {
    "hidden": true
   },
   "source": [
    "Check the data type of the **`started_at`** column:"
   ]
  },
  {
   "cell_type": "code",
   "execution_count": null,
   "metadata": {
    "collapsed": true,
    "hidden": true
   },
   "outputs": [],
   "source": [
    "type(tsdata.started_at.values[0])"
   ]
  },
  {
   "cell_type": "markdown",
   "metadata": {
    "hidden": true
   },
   "source": [
    "Convert that column from **`str`** to **`numpy.datetime64`**:"
   ]
  },
  {
   "cell_type": "code",
   "execution_count": null,
   "metadata": {
    "collapsed": true,
    "hidden": true
   },
   "outputs": [],
   "source": [
    "tsdata.started_at = tsdata.started_at.apply(pd.to_datetime)\n",
    "type(tsdata.started_at.values[0])"
   ]
  },
  {
   "cell_type": "markdown",
   "metadata": {
    "heading_collapsed": true,
    "hidden": true
   },
   "source": [
    "#### 2.2. Pass the DataFrame to function `bw.timeplot()`"
   ]
  },
  {
   "cell_type": "code",
   "execution_count": null,
   "metadata": {
    "collapsed": true,
    "hidden": true
   },
   "outputs": [],
   "source": [
    "bw.timeplot(df=tsdata, timecol='started_at', datacol='runtime', plottype='scatter')"
   ]
  }
 ],
 "metadata": {
  "kernelspec": {
   "display_name": "Python [default]",
   "language": "python",
   "name": "python3"
  },
  "language_info": {
   "codemirror_mode": {
    "name": "ipython",
    "version": 3
   },
   "file_extension": ".py",
   "mimetype": "text/x-python",
   "name": "python",
   "nbconvert_exporter": "python",
   "pygments_lexer": "ipython3",
   "version": "3.5.3"
  }
 },
 "nbformat": 4,
 "nbformat_minor": 2
}
