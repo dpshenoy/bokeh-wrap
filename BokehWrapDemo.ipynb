{
 "cells": [
  {
   "cell_type": "markdown",
   "metadata": {},
   "source": [
    "# bokeh_wrap demo\n",
    "\n",
    "Examples using module **`bokeh_wrap`**, a convenience wrapper around two bokeh plot functions for making two kinds of plots:\n",
    "\n",
    "1. Histogram with **`bokeh_wrap.bokeh_wrap.hist()`**\n",
    "2. Time Series with **`bokeh_wrap.bokeh_wrap.timeplot()`**"
   ]
  },
  {
   "cell_type": "code",
   "execution_count": null,
   "metadata": {},
   "outputs": [],
   "source": [
    "import os\n",
    "import sys\n",
    "\n",
    "sys.path.append(os.path.abspath(os.path.join('.')))"
   ]
  },
  {
   "cell_type": "markdown",
   "metadata": {},
   "source": [
    "## 0. Import the `bokeh_wrap` module"
   ]
  },
  {
   "cell_type": "code",
   "execution_count": null,
   "metadata": {},
   "outputs": [],
   "source": [
    "from bokeh_wrap import bokeh_wrap as bw"
   ]
  },
  {
   "cell_type": "markdown",
   "metadata": {},
   "source": [
    "## 1. Histogramming"
   ]
  },
  {
   "cell_type": "markdown",
   "metadata": {},
   "source": [
    "#### 1.1.  Read some data from a text file into a Pandas DataFrame\n",
    "\n",
    "Note: Using a Pandas DataFrame is not required.  However, Pandas DataFrames [are particularly convenient](https://bokeh.pydata.org/en/0.12.7/docs/user_guide/data.html#columndatasource) for the ColumnDataSource for a bokeh plot."
   ]
  },
  {
   "cell_type": "code",
   "execution_count": null,
   "metadata": {},
   "outputs": [],
   "source": [
    "import pandas as pd\n",
    "\n",
    "runtimes = pd.read_table(\"data/runtimes.txt\")\n",
    "print(runtimes.shape)\n",
    "runtimes.head()"
   ]
  },
  {
   "cell_type": "markdown",
   "metadata": {},
   "source": [
    "Pretend these data are the runtime (in some units) of some process.  We want to explore:\n",
    "1. Are there outliers?  If yes, how far out and how many/much of an issue?\n",
    "2. Is there a single population of values or maybe multiple ones?\n",
    "3. Where's the median?  Where would a cut-off such as the 90th percentile lie?\n",
    "\n",
    "Pandas DataFrames *do* already have method `hist()` available.  But it is not as flexible out of the box as I would like..."
   ]
  },
  {
   "cell_type": "code",
   "execution_count": null,
   "metadata": {},
   "outputs": [],
   "source": [
    "from matplotlib import pyplot as plt\n",
    "%matplotlib inline\n",
    "runtimes.hist()"
   ]
  },
  {
   "cell_type": "markdown",
   "metadata": {},
   "source": [
    "#### 1.2.  Pass the DataFrame to function `bw.hist()`\n",
    "\n",
    "Using bokeh, a histogram plot can have widgets added (in addition to the default bokeh toolbar), making it much more flexible:"
   ]
  },
  {
   "cell_type": "code",
   "execution_count": null,
   "metadata": {},
   "outputs": [],
   "source": [
    "bw.hist(df=runtimes, colname='runtime')"
   ]
  },
  {
   "cell_type": "markdown",
   "metadata": {
    "collapsed": true
   },
   "source": [
    "## 2.  Time series plot"
   ]
  },
  {
   "cell_type": "markdown",
   "metadata": {
    "collapsed": true
   },
   "source": [
    "#### 2.1.  Read in some time-stamped values\n",
    "Note: the data do not need to be sorted in any particular time order, ascending or descending.  However, it is important to make sure the time column is of (or is converted to) type **`numpy.datetime64`**"
   ]
  },
  {
   "cell_type": "code",
   "execution_count": null,
   "metadata": {},
   "outputs": [],
   "source": [
    "tsdata = pd.read_csv('data/time_data.csv')\n",
    "tsdata.head()"
   ]
  },
  {
   "cell_type": "markdown",
   "metadata": {},
   "source": [
    "Check the data type of the **`started_at`** column:"
   ]
  },
  {
   "cell_type": "code",
   "execution_count": null,
   "metadata": {},
   "outputs": [],
   "source": [
    "type(tsdata.started_at.values[0])"
   ]
  },
  {
   "cell_type": "markdown",
   "metadata": {},
   "source": [
    "Convert that column from **`str`** to **`numpy.datetime64`**:"
   ]
  },
  {
   "cell_type": "code",
   "execution_count": null,
   "metadata": {},
   "outputs": [],
   "source": [
    "tsdata.started_at = tsdata.started_at.apply(pd.to_datetime)\n",
    "type(tsdata.started_at.values[0])"
   ]
  },
  {
   "cell_type": "markdown",
   "metadata": {},
   "source": [
    "#### 2.2. Pass the DataFrame to function `bw.timeplot()`"
   ]
  },
  {
   "cell_type": "code",
   "execution_count": null,
   "metadata": {},
   "outputs": [],
   "source": [
    "bw.timeplot(df=tsdata, timecol='started_at', datacol='runtime', plottype='scatter')"
   ]
  },
  {
   "cell_type": "code",
   "execution_count": null,
   "metadata": {},
   "outputs": [],
   "source": []
  }
 ],
 "metadata": {
  "kernelspec": {
   "display_name": "Python bokeh_wrap",
   "language": "python",
   "name": "bokeh_wrap"
  },
  "language_info": {
   "codemirror_mode": {
    "name": "ipython",
    "version": 3
   },
   "file_extension": ".py",
   "mimetype": "text/x-python",
   "name": "python",
   "nbconvert_exporter": "python",
   "pygments_lexer": "ipython3",
   "version": "3.5.5"
  }
 },
 "nbformat": 4,
 "nbformat_minor": 2
}
